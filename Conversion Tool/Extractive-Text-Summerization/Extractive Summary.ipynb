{
 "cells": [
  {
   "cell_type": "markdown",
   "metadata": {},
   "source": [
    "## Pre-requisites\n",
    "\n",
    "First, install the following libraries:\n",
    "\n",
    "`pip install nltk networkx numpy`\n",
    "\n",
    "Then, open a terminal and run `python` in command line\n",
    "\n",
    "```python\n",
    "import nltk\n",
    "nltk.download('stopwords')\n",
    "```\n"
   ]
  },
  {
   "cell_type": "code",
   "execution_count": 124,
   "metadata": {},
   "outputs": [],
   "source": [
    "from nltk.corpus import stopwords\n",
    "from nltk.cluster.util import cosine_distance\n",
    "import numpy as np\n",
    "import networkx as nx"
   ]
  },
  {
   "cell_type": "code",
   "execution_count": 133,
   "metadata": {},
   "outputs": [],
   "source": [
    "def read_article(file_name):\n",
    "    file = open(file_name, \"r\")\n",
    "    filedata = file.readlines()\n",
    "    article = filedata[0].split(\". \")\n",
    "    sentences = []\n",
    "    print('ORIGINAL TEXT:\\n')\n",
    "    for sentence in article:\n",
    "        print(sentence)\n",
    "        sentences.append(sentence.replace(\"[^a-zA-Z]\", \" \").split(\" \"))  \n",
    "        \n",
    "    return sentences"
   ]
  },
  {
   "cell_type": "code",
   "execution_count": 134,
   "metadata": {},
   "outputs": [],
   "source": [
    "def sentence_similarity(sent1, sent2, stopwords=None):\n",
    "    if stopwords is None:\n",
    "        stopwords = []\n",
    " \n",
    "    sent1 = [w.lower() for w in sent1]\n",
    "    sent2 = [w.lower() for w in sent2]\n",
    " \n",
    "    all_words = list(set(sent1 + sent2))\n",
    " \n",
    "    vector1 = [0] * len(all_words)\n",
    "    vector2 = [0] * len(all_words)\n",
    " \n",
    "    # build the vector for the first sentence\n",
    "    for w in sent1:\n",
    "        if w in stopwords:\n",
    "            continue\n",
    "        vector1[all_words.index(w)] += 1\n",
    " \n",
    "    # build the vector for the second sentence\n",
    "    for w in sent2:\n",
    "        if w in stopwords:\n",
    "            continue\n",
    "        vector2[all_words.index(w)] += 1\n",
    "\n",
    "    return 1 - cosine_distance(vector1, vector2)"
   ]
  },
  {
   "cell_type": "code",
   "execution_count": 135,
   "metadata": {},
   "outputs": [],
   "source": [
    "def build_similarity_matrix(sentences, stop_words):\n",
    "    # Create an empty similarity matrix\n",
    "    similarity_matrix = np.zeros((len(sentences), len(sentences)))\n",
    " \n",
    "    for idx1 in range(len(sentences)):\n",
    "        for idx2 in range(len(sentences)):\n",
    "            if idx1 == idx2: #ignore if both are same sentences\n",
    "                continue\n",
    "            similarity_matrix[idx1][idx2] = sentence_similarity(sentences[idx1], sentences[idx2], stop_words)\n",
    "            \n",
    "    return similarity_matrix"
   ]
  },
  {
   "cell_type": "code",
   "execution_count": 136,
   "metadata": {},
   "outputs": [],
   "source": [
    "def generate_summary(file_name, top_n=5):\n",
    "    stop_words = stopwords.words('english')\n",
    "    summarize_text = []\n",
    "\n",
    "    # Step 1 - Read text anc split it\n",
    "    sentences =  read_article(file_name)\n",
    "    #print(sentences)\n",
    "\n",
    "    # Step 2 - Generate Similary Martix across sentences\n",
    "    sentence_similarity_martix = build_similarity_matrix(sentences, stop_words)\n",
    "\n",
    "    # Step 3 - Rank sentences in similarity martix\n",
    "    sentence_similarity_graph = nx.from_numpy_array(sentence_similarity_martix)\n",
    "    scores = nx.pagerank(sentence_similarity_graph)\n",
    "\n",
    "    # Step 4 - Sort the rank and pick top sentences\n",
    "    ranked_sentence = sorted(((scores[i],s) for i,s in enumerate(sentences)), reverse=True)    \n",
    "    #print(\"Indexes of top ranked_sentence order are \", ranked_sentence)\n",
    "\n",
    "    for i in range(top_n):\n",
    "        summarize_text.append(\" \".join(ranked_sentence[i][1]))\n",
    "\n",
    "    # Step 5 - Offcourse, output the summarize texr\n",
    "    print(\"\\nSUMMARIZED TEXT: \\n\\n\", \". \".join(summarize_text))"
   ]
  },
  {
   "cell_type": "code",
   "execution_count": 137,
   "metadata": {},
   "outputs": [
    {
     "name": "stdout",
     "output_type": "stream",
     "text": [
      "ORIGINAL TEXT:\n",
      "\n",
      "A nuclear thermal rocket (NTR) is a type of thermal rocket where the heat from a nuclear reaction, often nuclear fission, replaces the chemical energy of the propellants in a chemical rocket\n",
      "In an NTR, a working fluid, usually liquid hydrogen, is heated to a high temperature in a nuclear reactor and then expands through a rocket nozzle to create thrust\n",
      "The external nuclear heat source theoretically allows a higher effective exhaust velocity and is expected to double or triple payload capacity compared to chemical propellants that store energy internally\n",
      "NTRs have been proposed as a spacecraft propulsion technology, with the earliest ground tests occurring in 1955\n",
      "The US maintained an NTR development program through 1973, when it was shut down to focus on Space Shuttle development\n",
      "Although more than ten reactors of varying power output have been built and tested, as of 2019, no nuclear thermal rocket has flown\n",
      "Nuclear power in space applications that have flown include the fission-electric SNAP-10A and TOPAZ series satellites and radioisotope thermoelectric generators\n",
      "Whereas all early applications for nuclear thermal rocket propulsion all used fission processes, research in the 2010s has moved to fusion approaches\n",
      "The Direct Fusion Drive project at the Princeton Plasma Physics Laboratory is one such example, although \"energy positive fusion has remained elusive\"\n",
      "In 2019, the US Congress approved US$125 million in development funding for nuclear thermal propulsion rockets.\n",
      "\n",
      "SUMMARIZED TEXT: \n",
      "\n",
      " A nuclear thermal rocket (NTR) is a type of thermal rocket where the heat from a nuclear reaction, often nuclear fission, replaces the chemical energy of the propellants in a chemical rocket. Whereas all early applications for nuclear thermal rocket propulsion all used fission processes, research in the 2010s has moved to fusion approaches. In 2019, the US Congress approved US$125 million in development funding for nuclear thermal propulsion rockets.. Although more than ten reactors of varying power output have been built and tested, as of 2019, no nuclear thermal rocket has flown. Nuclear power in space applications that have flown include the fission-electric SNAP-10A and TOPAZ series satellites and radioisotope thermoelectric generators\n"
     ]
    }
   ],
   "source": [
    "generate_summary('sample.txt',5)"
   ]
  },
  {
   "cell_type": "code",
   "execution_count": null,
   "metadata": {},
   "outputs": [],
   "source": []
  }
 ],
 "metadata": {
  "kernelspec": {
   "display_name": "Python 3",
   "language": "python",
   "name": "python3"
  },
  "language_info": {
   "codemirror_mode": {
    "name": "ipython",
    "version": 3
   },
   "file_extension": ".py",
   "mimetype": "text/x-python",
   "name": "python",
   "nbconvert_exporter": "python",
   "pygments_lexer": "ipython3",
   "version": "3.7.4"
  }
 },
 "nbformat": 4,
 "nbformat_minor": 2
}
